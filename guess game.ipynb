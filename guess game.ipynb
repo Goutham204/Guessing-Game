{
 "cells": [
  {
   "cell_type": "code",
   "execution_count": 1,
   "id": "50875942-2e57-404b-b735-c9fb737cc5ac",
   "metadata": {},
   "outputs": [
    {
     "name": "stdin",
     "output_type": "stream",
     "text": [
      "Press 1 for Login, 2 for Register:  2\n",
      "Enter your name:  Vishnu\n",
      "Enter your password:  1234\n"
     ]
    },
    {
     "name": "stdout",
     "output_type": "stream",
     "text": [
      "Username already exists. Please try logging in.\n"
     ]
    },
    {
     "name": "stdin",
     "output_type": "stream",
     "text": [
      "Press 1 for Login, 2 for Register:  1\n",
      "Enter your Name:  Vishnu\n",
      "Enter the Password:  1234\n"
     ]
    },
    {
     "name": "stdout",
     "output_type": "stream",
     "text": [
      "Login Successful!\n",
      "\n",
      "1. Start Game\n",
      "2. Rules\n",
      "3. Highscore\n",
      "4. Exit\n"
     ]
    },
    {
     "name": "stdin",
     "output_type": "stream",
     "text": [
      "Enter the option:  1\n"
     ]
    },
    {
     "name": "stdout",
     "output_type": "stream",
     "text": [
      "GAME ON\n",
      "[20, 46]\n"
     ]
    },
    {
     "name": "stdin",
     "output_type": "stream",
     "text": [
      "Enter your guess:  46\n"
     ]
    },
    {
     "name": "stdout",
     "output_type": "stream",
     "text": [
      "Sorry, wrong answer. My choice was 20\n",
      "+-------+-------+-------+\n",
      "| Score | Heart | Level |\n",
      "+-------+-------+-------+\n",
      "|   0   |   2   |   1   |\n",
      "+-------+-------+-------+\n",
      "[96, 18]\n"
     ]
    },
    {
     "name": "stdin",
     "output_type": "stream",
     "text": [
      "Enter your guess:  18\n"
     ]
    },
    {
     "name": "stdout",
     "output_type": "stream",
     "text": [
      "Congratulations! Correct Answer\n",
      "+-------+-------+-------+\n",
      "| Score | Heart | Level |\n",
      "+-------+-------+-------+\n",
      "|   5   |   2   |   1   |\n",
      "+-------+-------+-------+\n",
      "[64, 12]\n"
     ]
    },
    {
     "name": "stdin",
     "output_type": "stream",
     "text": [
      "Enter your guess:  12\n"
     ]
    },
    {
     "name": "stdout",
     "output_type": "stream",
     "text": [
      "Sorry, wrong answer. My choice was 64\n",
      "+-------+-------+-------+\n",
      "| Score | Heart | Level |\n",
      "+-------+-------+-------+\n",
      "|   5   |   1   |   1   |\n",
      "+-------+-------+-------+\n",
      "[81, 51]\n"
     ]
    },
    {
     "name": "stdin",
     "output_type": "stream",
     "text": [
      "Enter your guess:  51\n"
     ]
    },
    {
     "name": "stdout",
     "output_type": "stream",
     "text": [
      "Congratulations! Correct Answer\n",
      "Congratulations on reaching level 2!\n",
      "+-------+-------+-------+\n",
      "| Score | Heart | Level |\n",
      "+-------+-------+-------+\n",
      "|   10  |   2   |   2   |\n",
      "+-------+-------+-------+\n",
      "[76, 60, 6]\n"
     ]
    },
    {
     "name": "stdin",
     "output_type": "stream",
     "text": [
      "Enter your guess:  60\n"
     ]
    },
    {
     "name": "stdout",
     "output_type": "stream",
     "text": [
      "Congratulations! Correct Answer\n",
      "+-------+-------+-------+\n",
      "| Score | Heart | Level |\n",
      "+-------+-------+-------+\n",
      "|   15  |   2   |   2   |\n",
      "+-------+-------+-------+\n",
      "[52, 35, 84]\n"
     ]
    },
    {
     "name": "stdin",
     "output_type": "stream",
     "text": [
      "Enter your guess:  35\n"
     ]
    },
    {
     "name": "stdout",
     "output_type": "stream",
     "text": [
      "Sorry, wrong answer. My choice was 52\n",
      "+-------+-------+-------+\n",
      "| Score | Heart | Level |\n",
      "+-------+-------+-------+\n",
      "|   15  |   1   |   2   |\n",
      "+-------+-------+-------+\n",
      "[72, 73, 72]\n"
     ]
    },
    {
     "name": "stdin",
     "output_type": "stream",
     "text": [
      "Enter your guess:  73\n"
     ]
    },
    {
     "name": "stdout",
     "output_type": "stream",
     "text": [
      "Congratulations! Correct Answer\n",
      "Congratulations on reaching level 3!\n",
      "+-------+-------+-------+\n",
      "| Score | Heart | Level |\n",
      "+-------+-------+-------+\n",
      "|   20  |   2   |   3   |\n",
      "+-------+-------+-------+\n",
      "[90, 47, 15, 32]\n"
     ]
    },
    {
     "name": "stdin",
     "output_type": "stream",
     "text": [
      "Enter your guess:  15\n"
     ]
    },
    {
     "name": "stdout",
     "output_type": "stream",
     "text": [
      "Sorry, wrong answer. My choice was 32\n",
      "+-------+-------+-------+\n",
      "| Score | Heart | Level |\n",
      "+-------+-------+-------+\n",
      "|   20  |   1   |   3   |\n",
      "+-------+-------+-------+\n",
      "[77, 81, 8, 61]\n"
     ]
    },
    {
     "name": "stdin",
     "output_type": "stream",
     "text": [
      "Enter your guess:  81\n"
     ]
    },
    {
     "name": "stdout",
     "output_type": "stream",
     "text": [
      "Sorry, wrong answer. My choice was 61\n",
      "+-------+-------+-------+\n",
      "| Score | Heart | Level |\n",
      "+-------+-------+-------+\n",
      "|   20  |   0   |   3   |\n",
      "+-------+-------+-------+\n",
      "GAME OVER!\n"
     ]
    },
    {
     "name": "stdin",
     "output_type": "stream",
     "text": [
      "Do you want to restart? (y/n):  n\n"
     ]
    }
   ],
   "source": [
    "import random\n",
    "from prettytable import PrettyTable\n",
    "\n",
    "game_details = {\"score\": 0, \"heart\": 3, \"level\": 1}\n",
    "\n",
    "def load_user_data():\n",
    "    users = {}\n",
    "    try:\n",
    "        with open(\"details.txt\", \"r\") as file:\n",
    "            for line in file:\n",
    "                data = line.strip().split(',')\n",
    "                if len(data) == 3:  \n",
    "                    name, password, highscore = data\n",
    "                    users[name] = {\"password\": password, \"highscore\": int(highscore)}\n",
    "                else:\n",
    "                    print(f\"Skipping malformed line: {line.strip()}\")\n",
    "    except FileNotFoundError:\n",
    "        pass\n",
    "    return users\n",
    "\n",
    "def save_user_data(users):\n",
    "    with open(\"details.txt\", \"w\") as file:\n",
    "        for name, details in users.items():\n",
    "            file.write(f\"{name},{details['password']},{details['highscore']}\\n\")\n",
    "\n",
    "def num_ran():\n",
    "    num = [random.randint(1, 100) for _ in range(0, game_details[\"level\"] + 1)]\n",
    "    my_guess = random.choice(num)\n",
    "    print(num)\n",
    "    return my_guess\n",
    "\n",
    "def result(user_guess, my_guess):\n",
    "    if user_guess == my_guess:\n",
    "        print(\"Congratulations! Correct Answer\")\n",
    "        game_details[\"score\"] += 5\n",
    "    else:\n",
    "        print(f\"Sorry, wrong answer. My choice was {my_guess}\")\n",
    "        game_details[\"heart\"] -= 1\n",
    "    return game_details\n",
    "\n",
    "def levelup(user_guess, my_guess):\n",
    "    if game_details[\"score\"] >= 10 and game_details[\"score\"] % 10 == 0 and user_guess == my_guess:\n",
    "        print(f\"Congratulations on reaching level {game_details['level'] + 1}!\")\n",
    "        game_details[\"level\"] += 1\n",
    "        game_details[\"heart\"] += 1\n",
    "\n",
    "def login_register():\n",
    "    users = load_user_data()\n",
    "    while True:\n",
    "        option = input(\"Press 1 for Login, 2 for Register: \")\n",
    "        if option == '1':\n",
    "            name = input(\"Enter your Name: \").lower()\n",
    "            passw = input(\"Enter the Password: \")\n",
    "            if name in users and users[name][\"password\"] == passw:\n",
    "                print(\"Login Successful!\")\n",
    "                return name, users\n",
    "            else:\n",
    "                print(\"Invalid credentials. Please try again.\")\n",
    "        elif option == '2':\n",
    "            name = input(\"Enter your name: \").lower()\n",
    "            passw = input(\"Enter your password: \")\n",
    "            if name not in users:\n",
    "                users[name] = {\"password\": passw, \"highscore\": 0}\n",
    "                save_user_data(users)\n",
    "                print(\"Registered Successfully!\")\n",
    "                return name, users\n",
    "            else:\n",
    "                print(\"Username already exists. Please try logging in.\")\n",
    "\n",
    "def game():\n",
    "    user, users = login_register()\n",
    "    while True:\n",
    "        print(\"\\n1. Start Game\\n2. Rules\\n3. Highscore\\n4. Exit\")\n",
    "        option = input(\"Enter the option: \")\n",
    "\n",
    "        if option == '1':\n",
    "            print(\"GAME ON\")\n",
    "            while game_details[\"heart\"] > 0:\n",
    "                my_guess = num_ran()\n",
    "                try:\n",
    "                    user_guess = int(input(\"Enter your guess: \"))\n",
    "                except ValueError:\n",
    "                    print(\"Invalid input. Please enter a number.\")\n",
    "                    continue\n",
    "                result(user_guess, my_guess)\n",
    "                levelup(user_guess, my_guess)\n",
    "                \n",
    "                table = PrettyTable([\"Score\", \"Heart\", \"Level\"])\n",
    "                table.add_row([game_details[\"score\"], game_details[\"heart\"], game_details[\"level\"]])\n",
    "                print(table)\n",
    "\n",
    "            print(\"GAME OVER!\")\n",
    "            users[user][\"highscore\"] = max(users[user][\"highscore\"], game_details[\"score\"])\n",
    "            save_user_data(users)\n",
    "            if input(\"Do you want to restart? (y/n): \").lower() != 'y':\n",
    "                break\n",
    "\n",
    "        elif option == '2':\n",
    "            print(\"\"\"\n",
    "            RULES:\n",
    "            1. Guess a number from the given set.\n",
    "            2. Correct guesses earn 5 points.\n",
    "            3. Every 10 points, you level up and earn an extra life.\n",
    "            4. You start with 3 lives. Each wrong guess loses a life.\n",
    "            \"\"\")\n",
    "\n",
    "        elif option == '3':\n",
    "            print(\"HIGHSCORES:\")\n",
    "            table = PrettyTable([\"Name\", \"Highscore\"])\n",
    "            for name, details in users.items():\n",
    "                table.add_row([name, details[\"highscore\"]])\n",
    "            print(table)\n",
    "\n",
    "        elif option == '4':\n",
    "            break\n",
    "\n",
    "game()\n"
   ]
  },
  {
   "cell_type": "code",
   "execution_count": null,
   "id": "f02a28ea-f4b5-4bf6-b05a-ece7608f9832",
   "metadata": {},
   "outputs": [],
   "source": []
  }
 ],
 "metadata": {
  "kernelspec": {
   "display_name": "Python 3 (ipykernel)",
   "language": "python",
   "name": "python3"
  },
  "language_info": {
   "codemirror_mode": {
    "name": "ipython",
    "version": 3
   },
   "file_extension": ".py",
   "mimetype": "text/x-python",
   "name": "python",
   "nbconvert_exporter": "python",
   "pygments_lexer": "ipython3",
   "version": "3.11.7"
  }
 },
 "nbformat": 4,
 "nbformat_minor": 5
}
